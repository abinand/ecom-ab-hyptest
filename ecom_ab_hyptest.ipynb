{
 "cells": [
  {
   "cell_type": "markdown",
   "id": "9f96061c",
   "metadata": {},
   "source": [
    "# Ecommerce A/B Testing\n"
   ]
  },
  {
   "cell_type": "code",
   "execution_count": 136,
   "id": "f9cc2d10",
   "metadata": {},
   "outputs": [],
   "source": [
    "import os\n",
    "import pandas as pd\n",
    "import seaborn as sns\n",
    "from statsmodels.stats.proportion import proportions_ztest\n",
    "\n",
    "if \"KAGGLE_KERNEL_RUN_TYPE\" in os.environ:\n",
    "    DATA_PATH = \"/kaggle/input/ecommerce-ab-testing-2022-dataset1/ecommerce_ab_testing_2022_dataset1\"\n",
    "else:\n",
    "    DATA_PATH = \"data/ecommerce_ab_testing_2022_dataset1\"\n",
    "\n",
    "df_ab = pd.read_csv(f'{DATA_PATH}/ab_data.csv')\n",
    "df_countries = pd.read_csv(f'{DATA_PATH}/countries.csv')\n"
   ]
  },
  {
   "cell_type": "markdown",
   "id": "bfe66e1b",
   "metadata": {},
   "source": [
    "## Data cleaning"
   ]
  },
  {
   "cell_type": "code",
   "execution_count": 137,
   "id": "bc480a40",
   "metadata": {},
   "outputs": [
    {
     "data": {
      "application/vnd.microsoft.datawrangler.viewer.v0+json": {
       "columns": [
        {
         "name": "index",
         "rawType": "int64",
         "type": "integer"
        },
        {
         "name": "user_id",
         "rawType": "int64",
         "type": "integer"
        },
        {
         "name": "timestamp",
         "rawType": "object",
         "type": "string"
        },
        {
         "name": "group",
         "rawType": "object",
         "type": "string"
        },
        {
         "name": "landing_page",
         "rawType": "object",
         "type": "string"
        },
        {
         "name": "converted",
         "rawType": "int64",
         "type": "integer"
        }
       ],
       "ref": "4ed64dbf-6b15-46df-9895-1d7ed14c965e",
       "rows": [
        [
         "0",
         "851104",
         "11:48.6",
         "control",
         "old_page",
         "0"
        ],
        [
         "1",
         "804228",
         "01:45.2",
         "control",
         "old_page",
         "0"
        ],
        [
         "2",
         "661590",
         "55:06.2",
         "treatment",
         "new_page",
         "0"
        ],
        [
         "3",
         "853541",
         "28:03.1",
         "treatment",
         "new_page",
         "0"
        ],
        [
         "4",
         "864975",
         "52:26.2",
         "control",
         "old_page",
         "1"
        ]
       ],
       "shape": {
        "columns": 5,
        "rows": 5
       }
      },
      "text/html": [
       "<div>\n",
       "<style scoped>\n",
       "    .dataframe tbody tr th:only-of-type {\n",
       "        vertical-align: middle;\n",
       "    }\n",
       "\n",
       "    .dataframe tbody tr th {\n",
       "        vertical-align: top;\n",
       "    }\n",
       "\n",
       "    .dataframe thead th {\n",
       "        text-align: right;\n",
       "    }\n",
       "</style>\n",
       "<table border=\"1\" class=\"dataframe\">\n",
       "  <thead>\n",
       "    <tr style=\"text-align: right;\">\n",
       "      <th></th>\n",
       "      <th>user_id</th>\n",
       "      <th>timestamp</th>\n",
       "      <th>group</th>\n",
       "      <th>landing_page</th>\n",
       "      <th>converted</th>\n",
       "    </tr>\n",
       "  </thead>\n",
       "  <tbody>\n",
       "    <tr>\n",
       "      <th>0</th>\n",
       "      <td>851104</td>\n",
       "      <td>11:48.6</td>\n",
       "      <td>control</td>\n",
       "      <td>old_page</td>\n",
       "      <td>0</td>\n",
       "    </tr>\n",
       "    <tr>\n",
       "      <th>1</th>\n",
       "      <td>804228</td>\n",
       "      <td>01:45.2</td>\n",
       "      <td>control</td>\n",
       "      <td>old_page</td>\n",
       "      <td>0</td>\n",
       "    </tr>\n",
       "    <tr>\n",
       "      <th>2</th>\n",
       "      <td>661590</td>\n",
       "      <td>55:06.2</td>\n",
       "      <td>treatment</td>\n",
       "      <td>new_page</td>\n",
       "      <td>0</td>\n",
       "    </tr>\n",
       "    <tr>\n",
       "      <th>3</th>\n",
       "      <td>853541</td>\n",
       "      <td>28:03.1</td>\n",
       "      <td>treatment</td>\n",
       "      <td>new_page</td>\n",
       "      <td>0</td>\n",
       "    </tr>\n",
       "    <tr>\n",
       "      <th>4</th>\n",
       "      <td>864975</td>\n",
       "      <td>52:26.2</td>\n",
       "      <td>control</td>\n",
       "      <td>old_page</td>\n",
       "      <td>1</td>\n",
       "    </tr>\n",
       "  </tbody>\n",
       "</table>\n",
       "</div>"
      ],
      "text/plain": [
       "   user_id timestamp      group landing_page  converted\n",
       "0   851104   11:48.6    control     old_page          0\n",
       "1   804228   01:45.2    control     old_page          0\n",
       "2   661590   55:06.2  treatment     new_page          0\n",
       "3   853541   28:03.1  treatment     new_page          0\n",
       "4   864975   52:26.2    control     old_page          1"
      ]
     },
     "execution_count": 137,
     "metadata": {},
     "output_type": "execute_result"
    }
   ],
   "source": [
    "df_ab.head(5)"
   ]
  },
  {
   "cell_type": "markdown",
   "id": "58d8ddc7",
   "metadata": {},
   "source": [
    "The old landing page is the control group and the new landing page is the treatment group. We remove errors where they are mismatched."
   ]
  },
  {
   "cell_type": "code",
   "execution_count": 138,
   "id": "5fb595ed",
   "metadata": {},
   "outputs": [
    {
     "name": "stdout",
     "output_type": "stream",
     "text": [
      "Removing 1965 rows from treatment group\n",
      "Removing 1928 rows from control group\n"
     ]
    }
   ],
   "source": [
    "irregular_control_count = len(df_ab[((df_ab['landing_page'] == 'old_page') & (df_ab['group'] == 'treatment'))])\n",
    "irregular_treatment_count = len(df_ab[((df_ab['landing_page'] == 'new_page') & (df_ab['group'] == 'control'))])\n",
    "print(f'Removing {irregular_control_count} rows from treatment group')\n",
    "df_ab = df_ab[~((df_ab['landing_page'] == 'old_page') & (df_ab['group'] == 'treatment'))]\n",
    "print(f'Removing {irregular_treatment_count} rows from control group')\n",
    "df_ab = df_ab[~((df_ab['landing_page'] == 'new_page') & (df_ab['group'] == 'control'))]\n"
   ]
  },
  {
   "cell_type": "markdown",
   "id": "a998f420",
   "metadata": {},
   "source": [
    "With errors removed, we only require the user_id, group and converted columns for further analysis."
   ]
  },
  {
   "cell_type": "code",
   "execution_count": 139,
   "id": "2ac69bc7",
   "metadata": {},
   "outputs": [
    {
     "name": "stdout",
     "output_type": "stream",
     "text": [
      "<class 'pandas.core.frame.DataFrame'>\n",
      "Index: 290587 entries, 0 to 294479\n",
      "Data columns (total 3 columns):\n",
      " #   Column     Non-Null Count   Dtype \n",
      "---  ------     --------------   ----- \n",
      " 0   user_id    290587 non-null  int64 \n",
      " 1   group      290587 non-null  object\n",
      " 2   converted  290587 non-null  int64 \n",
      "dtypes: int64(2), object(1)\n",
      "memory usage: 8.9+ MB\n",
      "Total number of unique users is 290585\n"
     ]
    }
   ],
   "source": [
    "df_ab.drop(columns=['landing_page', 'timestamp'], inplace=True)\n",
    "df_ab.info()\n",
    "print('Total number of unique users is ' + str(df_ab['user_id'].nunique()))"
   ]
  },
  {
   "cell_type": "markdown",
   "id": "3939013d",
   "metadata": {},
   "source": [
    "Comparing the total number of rows with unique users, it appears there may be a couple of duplicates"
   ]
  },
  {
   "cell_type": "code",
   "execution_count": 140,
   "id": "095a1006",
   "metadata": {},
   "outputs": [
    {
     "name": "stdout",
     "output_type": "stream",
     "text": [
      "Removing the following duplicates \n",
      "        user_id      group  converted\n",
      "2893     773192  treatment          0\n",
      "294478   759899  treatment          0\n"
     ]
    }
   ],
   "source": [
    "print('Removing the following duplicates ') \n",
    "print(df_ab[df_ab.duplicated()])\n",
    "df_ab.drop_duplicates();"
   ]
  },
  {
   "cell_type": "code",
   "execution_count": 141,
   "id": "9ef40fc9",
   "metadata": {},
   "outputs": [
    {
     "name": "stdout",
     "output_type": "stream",
     "text": [
      "Converting data type to boolean for the conversion column\n",
      "converted\n",
      "False    255834\n",
      "True      34753\n",
      "Name: count, dtype: int64\n"
     ]
    }
   ],
   "source": [
    "print('Converting data type to boolean for the conversion column')\n",
    "df_ab['converted'] = df_ab['converted'].astype(bool)\n",
    "print(df_ab['converted'].value_counts())"
   ]
  },
  {
   "cell_type": "markdown",
   "id": "0ce1549f",
   "metadata": {},
   "source": [
    "# Visualization\n",
    "\n",
    "We will inspect the counts of conversions for each group and visualize it in a bar chart"
   ]
  },
  {
   "cell_type": "code",
   "execution_count": 142,
   "id": "4532e679",
   "metadata": {},
   "outputs": [
    {
     "data": {
      "application/vnd.microsoft.datawrangler.viewer.v0+json": {
       "columns": [
        {
         "name": "index",
         "rawType": "int64",
         "type": "integer"
        },
        {
         "name": "group",
         "rawType": "object",
         "type": "string"
        },
        {
         "name": "converted",
         "rawType": "bool",
         "type": "boolean"
        },
        {
         "name": "count",
         "rawType": "int64",
         "type": "integer"
        },
        {
         "name": "percent",
         "rawType": "float64",
         "type": "float"
        }
       ],
       "ref": "59d5f0dc-6876-4392-9c5d-90fe29bf15c7",
       "rows": [
        [
         "0",
         "control",
         "False",
         "127785",
         "87.96136954995389"
        ],
        [
         "1",
         "control",
         "True",
         "17489",
         "12.03863045004612"
        ],
        [
         "2",
         "treatment",
         "False",
         "128049",
         "88.11943872881297"
        ],
        [
         "3",
         "treatment",
         "True",
         "17264",
         "11.880561271187023"
        ]
       ],
       "shape": {
        "columns": 4,
        "rows": 4
       }
      },
      "text/html": [
       "<div>\n",
       "<style scoped>\n",
       "    .dataframe tbody tr th:only-of-type {\n",
       "        vertical-align: middle;\n",
       "    }\n",
       "\n",
       "    .dataframe tbody tr th {\n",
       "        vertical-align: top;\n",
       "    }\n",
       "\n",
       "    .dataframe thead th {\n",
       "        text-align: right;\n",
       "    }\n",
       "</style>\n",
       "<table border=\"1\" class=\"dataframe\">\n",
       "  <thead>\n",
       "    <tr style=\"text-align: right;\">\n",
       "      <th></th>\n",
       "      <th>group</th>\n",
       "      <th>converted</th>\n",
       "      <th>count</th>\n",
       "      <th>percent</th>\n",
       "    </tr>\n",
       "  </thead>\n",
       "  <tbody>\n",
       "    <tr>\n",
       "      <th>0</th>\n",
       "      <td>control</td>\n",
       "      <td>False</td>\n",
       "      <td>127785</td>\n",
       "      <td>87.961370</td>\n",
       "    </tr>\n",
       "    <tr>\n",
       "      <th>1</th>\n",
       "      <td>control</td>\n",
       "      <td>True</td>\n",
       "      <td>17489</td>\n",
       "      <td>12.038630</td>\n",
       "    </tr>\n",
       "    <tr>\n",
       "      <th>2</th>\n",
       "      <td>treatment</td>\n",
       "      <td>False</td>\n",
       "      <td>128049</td>\n",
       "      <td>88.119439</td>\n",
       "    </tr>\n",
       "    <tr>\n",
       "      <th>3</th>\n",
       "      <td>treatment</td>\n",
       "      <td>True</td>\n",
       "      <td>17264</td>\n",
       "      <td>11.880561</td>\n",
       "    </tr>\n",
       "  </tbody>\n",
       "</table>\n",
       "</div>"
      ],
      "text/plain": [
       "       group  converted   count    percent\n",
       "0    control      False  127785  87.961370\n",
       "1    control       True   17489  12.038630\n",
       "2  treatment      False  128049  88.119439\n",
       "3  treatment       True   17264  11.880561"
      ]
     },
     "execution_count": 142,
     "metadata": {},
     "output_type": "execute_result"
    }
   ],
   "source": [
    "grouped_percentage = df_ab.groupby(['group', 'converted']).size().reset_index(name='count')\n",
    "grouped_percentage['percent'] = grouped_percentage.groupby('group')['count'].transform(lambda x: (x / x.sum())*100)\n",
    "grouped_percentage"
   ]
  },
  {
   "cell_type": "code",
   "execution_count": 143,
   "id": "40c911bb",
   "metadata": {},
   "outputs": [
    {
     "data": {
      "image/png": "[encoded data removed]",
      "text/plain": [
       "<Figure size 584.875x500 with 1 Axes>"
      ]
     },
     "metadata": {},
     "output_type": "display_data"
    }
   ],
   "source": [
    "g = sns.catplot(data=grouped_percentage, x='group', y='percent', hue='converted', kind='bar')\n",
    "g.set_axis_labels(\"Group\", \"Percent within Group\")\n",
    "for ax in g.axes.flat:\n",
    "    for container in ax.containers:\n",
    "        ax.bar_label(container, fmt=\"%2.2f%%\")"
   ]
  },
  {
   "cell_type": "markdown",
   "id": "e61d9618",
   "metadata": {},
   "source": [
    "On casual observation, the conversion rate of both control and treatment groups are very close to each other with the treatment group seemingly worse than the control. But we have to test the statistical significance of this result as it only represents a sample of the population. \n",
    "\n",
    "In other words, we have to confirm that the difference is not due to random chance."
   ]
  },
  {
   "cell_type": "markdown",
   "id": "a1efe086",
   "metadata": {},
   "source": [
    "# Hypothesis Testing\n",
    "\n",
    "Since we are comparing proportions of the categorical variable 'converted' we can use either the chi-square test or the Z-test for proportions.\n",
    "\n",
    "We choose the Z-test for proportions for the following reasons:\n",
    "- The sample size is large enough (> 100,000 rows per group)\n",
    "- We can infer whether the treatment outperforms the control (or vice versa)\n",
    "\n",
    "\n",
    "## Null and Alternative Hypothesis\n",
    "\n",
    "We define the null hypothesis as   \n",
    "$$\\pi_1\\geq\\pi_2$$\n",
    " where   \n",
    " $\\pi_1$ is the population conversion rate of the control group    \n",
    " $\\pi_2$ is the population conversion rate of the treatment group\n",
    "\n",
    "The alternative hypothesis is \n",
    "$$\\pi_1\\lt\\pi_2$$\n",
    "\n",
    "This means that if the conversion rate of the control group is greater or equal to the treatment then there is no need to change it.\n",
    "We reject the null hypothesis when there is sufficient evidence that the treatment group conversion rate is higher\n",
    "\n",
    "## Z-Test for proportion\n",
    "\n",
    "We will use a one-tailed Z-test with a 0.05 level of significance ( $\\alpha$ ) which gives us 95% (1-$\\alpha$) confidence."
   ]
  },
  {
   "cell_type": "code",
   "execution_count": 153,
   "id": "4e0291a4",
   "metadata": {},
   "outputs": [
    {
     "name": "stdout",
     "output_type": "stream",
     "text": [
      "           not_converted  converted\n",
      "group                              \n",
      "control           127785      17489\n",
      "treatment         128049      17264\n",
      "Groups ['control', 'treatment']\n",
      "Converted counts [17489 17264]\n",
      "Total counts [145274 145313]\n",
      "Z-Statistic 1.312974\n",
      "p value 0.905404\n"
     ]
    }
   ],
   "source": [
    "# Build the summary table\n",
    "contingency_table = df_ab.groupby(['group','converted']).size().unstack()\n",
    "contingency_table.columns = ['not_converted', 'converted']\n",
    "\n",
    "# Get success and totals\n",
    "success = contingency_table['converted'].values\n",
    "nobs = contingency_table.sum(axis=1).values\n",
    "\n",
    "print(contingency_table)\n",
    "print(\"Groups\", list(contingency_table.index))\n",
    "print(\"Converted counts\", success)\n",
    "print(\"Total counts\", nobs)\n",
    "\n",
    "z_stat, p_value = proportions_ztest(count=success, nobs=nobs, alternative='smaller')\n",
    "print(f\"Z-Statistic {z_stat:4f}\")\n",
    "print(f\"p value {p_value:4f}\")"
   ]
  },
  {
   "cell_type": "markdown",
   "id": "abe3bfc1",
   "metadata": {},
   "source": [
    "The p-value of 0.905 is much higher than the the level of significance. We fail to reject the null hypothesis.\n",
    "\n",
    "**We do not sufficient evidence to prove than treatment outperforms the control**\n",
    "\n",
    "# Conclusion\n",
    "\n",
    "The A/B test result shows that the new landing page does not increase conversion."
   ]
  }
 ],
 "metadata": {
  "kernelspec": {
   "display_name": "kaggle_sandbox",
   "language": "python",
   "name": "python3"
  },
  "language_info": {
   "codemirror_mode": {
    "name": "ipython",
    "version": 3
   },
   "file_extension": ".py",
   "mimetype": "text/x-python",
   "name": "python",
   "nbconvert_exporter": "python",
   "pygments_lexer": "ipython3",
   "version": "3.13.7"
  }
 },
 "nbformat": 4,
 "nbformat_minor": 5
}
